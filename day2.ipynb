print ("hi bro")
<br>
hi for
